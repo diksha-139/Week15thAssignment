{
  "cells": [
    {
      "cell_type": "markdown",
      "metadata": {
        "id": "view-in-github",
        "colab_type": "text"
      },
      "source": [
        "<a href=\"https://colab.research.google.com/github/diksha-139/Week15thAssignment/blob/main/Week15_Assignment_Signature_Verification.ipynb\" target=\"_parent\"><img src=\"https://colab.research.google.com/assets/colab-badge.svg\" alt=\"Open In Colab\"/></a>"
      ]
    },
    {
      "cell_type": "markdown",
      "id": "377751b7",
      "metadata": {
        "id": "377751b7"
      },
      "source": [
        "# <font color=teal> Part -1 Understand RSA Algoprithm for Key encryption and Decryption <font>"
      ]
    },
    {
      "cell_type": "code",
      "execution_count": 1,
      "id": "f026818e",
      "metadata": {
        "id": "f026818e",
        "outputId": "a208abf2-4dbb-4a98-aafa-55c844b275c0",
        "colab": {
          "base_uri": "https://localhost:8080/"
        }
      },
      "outputs": [
        {
          "output_type": "stream",
          "name": "stdout",
          "text": [
            "Collecting pycryptodome\n",
            "  Downloading pycryptodome-3.20.0-cp35-abi3-manylinux_2_17_x86_64.manylinux2014_x86_64.whl (2.1 MB)\n",
            "\u001b[2K     \u001b[90m━━━━━━━━━━━━━━━━━━━━━━━━━━━━━━━━━━━━━━━━\u001b[0m \u001b[32m2.1/2.1 MB\u001b[0m \u001b[31m10.3 MB/s\u001b[0m eta \u001b[36m0:00:00\u001b[0m\n",
            "\u001b[?25hInstalling collected packages: pycryptodome\n",
            "Successfully installed pycryptodome-3.20.0\n"
          ]
        }
      ],
      "source": [
        "!pip install pycryptodome"
      ]
    },
    {
      "cell_type": "code",
      "execution_count": 2,
      "id": "e69e7ff5",
      "metadata": {
        "id": "e69e7ff5"
      },
      "outputs": [],
      "source": [
        "import Crypto\n",
        "from Crypto.PublicKey import RSA\n",
        "from Crypto import Random\n",
        "import ast\n",
        "from Crypto.Cipher import PKCS1_OAEP"
      ]
    },
    {
      "cell_type": "markdown",
      "id": "57416507",
      "metadata": {
        "id": "57416507"
      },
      "source": [
        "## Key Generation"
      ]
    },
    {
      "cell_type": "code",
      "execution_count": 3,
      "id": "2b1f745a",
      "metadata": {
        "id": "2b1f745a"
      },
      "outputs": [],
      "source": [
        "#generate pub and priv key\n",
        "random_generator = Random.new().read\n",
        "key = RSA.generate(1024, random_generator)\n",
        "private_key = key.export_key()\n",
        "public_key = key.publickey().exportKey()"
      ]
    },
    {
      "cell_type": "markdown",
      "id": "a5fc5160",
      "metadata": {
        "id": "a5fc5160"
      },
      "source": [
        "## Encrypt a message using the public key generated above"
      ]
    },
    {
      "cell_type": "code",
      "execution_count": 4,
      "id": "40a46c33",
      "metadata": {
        "id": "40a46c33",
        "outputId": "771d3bfd-3aa7-46ce-bbaa-d8fc75f6a366",
        "colab": {
          "base_uri": "https://localhost:8080/"
        }
      },
      "outputs": [
        {
          "output_type": "stream",
          "name": "stdout",
          "text": [
            "Text for RSA encryption and decryption: diksha\n",
            "your encrypted text is : b'\\x0e\\x80FP%cI\\x8f\\xf7\\x9a\\xb5ni\\xb6Y+t\\x14&\\xd0\\xc7.\\xf464\\xb1\\x08\\xd5\\xa9\\xeetJ\\x9d\\x9d\\x02aZL\\xec\\xd2\\xfd\\xff\\x0e\\x11\\xf3\\x08h\\xdf\\x92U\\x8c\\xfb\\xad\\x8f\\x1c\\xf6\\xb0\\x8bKt\\x94K+T\\xfc\\xb9\\x97\\x1cz\\xc9\\x12cZS\\xc0O)\\x0f\\x84\\xc0\"\\x85\\xfe\\xa9!,\\x1eM\\xf2I}t\\xc9`\\xf8\\xfe\\x17\\x9er\\xbbB\\xe7BV[\\xf5\\xba?\\x0c\\xfb\\xa2\\xca\\xf1}2\\xe1p`\\xf5\\t\\xbb\\x07\\xa1\\xdf(\\xa5\\xc24'\n"
          ]
        }
      ],
      "source": [
        "message = input('Text for RSA encryption and decryption: ')\n",
        "message = str.encode(message)\n",
        "\n",
        "rsa_public_key = RSA.importKey(public_key)\n",
        "rsa_public_key = PKCS1_OAEP.new(rsa_public_key)\n",
        "\n",
        "encrypted = rsa_public_key.encrypt(message)\n",
        "\n",
        "print('your encrypted text is : {}'.format(encrypted))"
      ]
    },
    {
      "cell_type": "markdown",
      "id": "00bf172f",
      "metadata": {
        "id": "00bf172f"
      },
      "source": [
        "## Decryption the message using the private key generated above"
      ]
    },
    {
      "cell_type": "code",
      "execution_count": 5,
      "id": "07d82b17",
      "metadata": {
        "id": "07d82b17",
        "outputId": "2778f754-641f-4e37-8ef4-a7cd7dd79b37",
        "colab": {
          "base_uri": "https://localhost:8080/"
        }
      },
      "outputs": [
        {
          "output_type": "stream",
          "name": "stdout",
          "text": [
            "decrypted message is:  b'diksha'\n"
          ]
        }
      ],
      "source": [
        "#decrypted code below\n",
        "\n",
        "rsa_private_key = RSA.importKey(private_key)\n",
        "rsa_private_key = PKCS1_OAEP.new(rsa_private_key)\n",
        "decrypted = rsa_private_key.decrypt(ast.literal_eval(str(encrypted)))\n",
        "\n",
        "print('decrypted message is: ', decrypted)"
      ]
    },
    {
      "cell_type": "markdown",
      "id": "e9237dff",
      "metadata": {
        "id": "e9237dff"
      },
      "source": [
        "#  <font color=teal> Part-2: RSA For Signature Verification</font>\n"
      ]
    },
    {
      "cell_type": "markdown",
      "id": "398bf8a3",
      "metadata": {
        "id": "398bf8a3"
      },
      "source": [
        "### Introduction:\n",
        "In this assignment, we will aim to develop a signature verification protocol using the RSA algorithm.\n",
        "The RSA public-key cryptosystem provides a digital signature scheme (sign + verify), based on the math of the modular exponentiations and discrete logarithms and the computational difficulty of the RSA problem.\n",
        "\n",
        "Steps for RSA sign/verify algorithm:\n",
        "\n",
        "- Key Generation:- The RSA key-pair consists of: public key {n, e} & private key {n, d}. The numbers n and d are typically big integers, while e is small. By definition, the RSA key-pairs has the following property:\n",
        "(m^e)^d ≡(m^d)^e  ≡m(modn),  for all m in the range [0...n)\n",
        "\n",
        "- RSA Sign:- sign a message ‘msg’ with the private key components {n,d}\n",
        "    - Calculate the message hash: h = hash(msg)\n",
        "    - Encrypt h to calculate the signature: s = h^d (mod n)\n",
        "\n",
        "- RSA Verify Signature:- Verify a signature s for the message ‘msg’ with the public key {n, e}\n",
        "    - Calculate the message hash: h = hash(msg)\n",
        "    - Decrypt the signature: h′  =s^e (mod n)\n",
        "    - Compare h with h' to find whether the signature is valid or not\n"
      ]
    },
    {
      "cell_type": "markdown",
      "id": "fda92d75",
      "metadata": {
        "id": "fda92d75"
      },
      "source": [
        "## <font color=blue>Part 1: Generate private key and the public key for signature verification </font>"
      ]
    },
    {
      "cell_type": "code",
      "execution_count": 11,
      "id": "9df694b5",
      "metadata": {
        "id": "9df694b5"
      },
      "outputs": [],
      "source": [
        "from Crypto.PublicKey import RSA"
      ]
    },
    {
      "cell_type": "code",
      "execution_count": 10,
      "id": "164e0d5d",
      "metadata": {
        "id": "164e0d5d"
      },
      "outputs": [],
      "source": [
        "## generating the 2048 byte key.\n",
        "key = RSA.generate(2048)"
      ]
    },
    {
      "cell_type": "code",
      "execution_count": 9,
      "id": "rnyQ-mgMjoQP",
      "metadata": {
        "id": "rnyQ-mgMjoQP"
      },
      "outputs": [],
      "source": [
        "# Write the private key to a file\n",
        "with open('private_key.pem', 'wb') as f:\n",
        "    f.write(key.export_key())\n",
        "\n",
        "# Write the public key to a file\n",
        "with open('public_key.pem', 'wb') as f:\n",
        "    f.write(key.publickey().export_key())\n"
      ]
    },
    {
      "cell_type": "markdown",
      "id": "fb230983",
      "metadata": {
        "id": "fb230983"
      },
      "source": [
        "## <font color=blue>Part 2: Sign the message using the above private key </font>"
      ]
    },
    {
      "cell_type": "code",
      "execution_count": 12,
      "id": "77f500ae",
      "metadata": {
        "id": "77f500ae"
      },
      "outputs": [],
      "source": [
        "from Crypto.Signature import pkcs1_15\n",
        "from Crypto.Hash import SHA256"
      ]
    },
    {
      "cell_type": "code",
      "execution_count": 7,
      "id": "a6066c84",
      "metadata": {
        "id": "a6066c84"
      },
      "outputs": [],
      "source": [
        "## Define the msg\n",
        "msg = b'Hey this is me, lets meet at cafe at 6pm'"
      ]
    },
    {
      "cell_type": "code",
      "execution_count": 13,
      "id": "0b462305",
      "metadata": {
        "id": "0b462305"
      },
      "outputs": [],
      "source": [
        "# Import the private key\n",
        "with open('private_key.pem', 'rb') as f:\n",
        "    private_key = RSA.import_key(f.read())"
      ]
    },
    {
      "cell_type": "code",
      "execution_count": 14,
      "id": "q6wn04Mxjsoy",
      "metadata": {
        "id": "q6wn04Mxjsoy"
      },
      "outputs": [],
      "source": [
        "## Create a hash of the message\n",
        "hash = SHA256.new(msg)"
      ]
    },
    {
      "cell_type": "code",
      "execution_count": 15,
      "id": "PzFBwv60j2Cs",
      "metadata": {
        "id": "PzFBwv60j2Cs"
      },
      "outputs": [],
      "source": [
        "## sign the message\n",
        "signature = pkcs1_15.new(private_key).sign(hash)"
      ]
    },
    {
      "cell_type": "markdown",
      "id": "d8a7cfb0",
      "metadata": {
        "id": "d8a7cfb0"
      },
      "source": [
        "##### Signature is created using the private key by the sender, signature and the message is sent to the receiver."
      ]
    },
    {
      "cell_type": "code",
      "execution_count": 16,
      "id": "35ca232a",
      "metadata": {
        "id": "35ca232a"
      },
      "outputs": [],
      "source": [
        "with open(\"message1.txt\", \"wb\") as m:\n",
        "    m.write(msg)\n",
        "with open(\"signature1.sig\", \"wb\") as s:\n",
        "    s.write(signature)"
      ]
    },
    {
      "cell_type": "markdown",
      "id": "18618a88",
      "metadata": {
        "id": "18618a88"
      },
      "source": [
        "## <font color=blue>Part 3: Verifying the above signature ‘sign’ for the message ‘msg’ using the above public key </font>"
      ]
    },
    {
      "cell_type": "markdown",
      "id": "f1d6956a",
      "metadata": {
        "id": "f1d6956a"
      },
      "source": [
        "#### Now the receiver has received the signature and the message from the sender, lets verify the signature."
      ]
    },
    {
      "cell_type": "code",
      "execution_count": 17,
      "id": "a8704f7c",
      "metadata": {
        "id": "a8704f7c"
      },
      "outputs": [],
      "source": [
        "# Import the public key\n",
        "with open(\"public_key.pem\", \"rb\") as pu:\n",
        "    public_key = RSA.import_key(pu.read())"
      ]
    },
    {
      "cell_type": "code",
      "execution_count": 18,
      "id": "3f7417e5",
      "metadata": {
        "id": "3f7417e5"
      },
      "outputs": [],
      "source": [
        "## read/load the received message and the received signature.\n",
        "with open(\"message1.txt\", \"rb\") as m:\n",
        "    msg1 = m.read()\n",
        "with open(\"signature1.sig\", \"rb\") as s:\n",
        "    signature1 = s.read()"
      ]
    },
    {
      "cell_type": "code",
      "execution_count": 19,
      "id": "a5218e32",
      "metadata": {
        "id": "a5218e32"
      },
      "outputs": [],
      "source": [
        "## Create a hash of the message(received message)\n",
        "hash1 = SHA256.new(msg1)"
      ]
    },
    {
      "cell_type": "markdown",
      "id": "7464f774",
      "metadata": {
        "id": "7464f774"
      },
      "source": [
        "#### Comparing hash1 and the hash. If 'hash1' (from received message) is same as the 'hash' (from sent message), we will get to know that sign is original."
      ]
    },
    {
      "cell_type": "code",
      "execution_count": 20,
      "id": "-GxL8kTLkzx7",
      "metadata": {
        "id": "-GxL8kTLkzx7",
        "colab": {
          "base_uri": "https://localhost:8080/"
        },
        "outputId": "44c72eeb-a3ab-4cb7-e6ab-1e5945589030"
      },
      "outputs": [
        {
          "output_type": "stream",
          "name": "stdout",
          "text": [
            "The signature is valid. Messages are Unchanged\n"
          ]
        }
      ],
      "source": [
        "try:\n",
        "    pkcs1_15.new(public_key).verify(hash1, signature1)\n",
        "    print('The signature is valid. Messages are Unchanged')\n",
        "except (ValueError, TypeError):\n",
        "    print('Alert!! The signature is not valid. Messages are changed')"
      ]
    },
    {
      "cell_type": "markdown",
      "id": "cebdfefb",
      "metadata": {
        "id": "cebdfefb"
      },
      "source": [
        "### <font color=royalblue>Part 4: Make some changes to the message or signature and then verify the signature</font>\n"
      ]
    },
    {
      "cell_type": "code",
      "execution_count": 21,
      "id": "sDQvOeWNk4k0",
      "metadata": {
        "id": "sDQvOeWNk4k0"
      },
      "outputs": [],
      "source": [
        "## read the public key\n",
        "with open(\"public_key.pem\", \"rb\") as pu:\n",
        "    public_key = RSA.import_key(pu.read())"
      ]
    },
    {
      "cell_type": "code",
      "execution_count": 22,
      "id": "DKWbswf2k6AS",
      "metadata": {
        "id": "DKWbswf2k6AS"
      },
      "outputs": [],
      "source": [
        "## read the received message and the received signature\n",
        "msg2 = b'This is a modified message'\n",
        "with open(\"message2.txt\", \"wb\") as m:\n",
        "    m.write(msg2)"
      ]
    },
    {
      "cell_type": "code",
      "execution_count": 23,
      "id": "pW_KzcEtk8Xp",
      "metadata": {
        "id": "pW_KzcEtk8Xp"
      },
      "outputs": [],
      "source": [
        "## Create a hash of the message(received message)\n",
        "hash2 = SHA256.new(msg2)"
      ]
    },
    {
      "cell_type": "code",
      "execution_count": 24,
      "id": "0tMi_5z-lGhs",
      "metadata": {
        "id": "0tMi_5z-lGhs",
        "colab": {
          "base_uri": "https://localhost:8080/"
        },
        "outputId": "122d8de3-a651-466b-970a-d213c82c738e"
      },
      "outputs": [
        {
          "output_type": "stream",
          "name": "stdout",
          "text": [
            "The signature is not valid.\n"
          ]
        }
      ],
      "source": [
        "## Compare and verify\n",
        "try:\n",
        "    pkcs1_15.new(public_key).verify(hash2, signature1)\n",
        "    print(\"The signature is valid.\")\n",
        "except (ValueError, TypeError):\n",
        "    print(\"The signature is not valid.\")"
      ]
    },
    {
      "cell_type": "code",
      "source": [],
      "metadata": {
        "id": "RVD5OMoWAR8Y"
      },
      "id": "RVD5OMoWAR8Y",
      "execution_count": null,
      "outputs": []
    }
  ],
  "metadata": {
    "colab": {
      "provenance": [],
      "include_colab_link": true
    },
    "kernelspec": {
      "display_name": "Python 3 (ipykernel)",
      "language": "python",
      "name": "python3"
    },
    "language_info": {
      "codemirror_mode": {
        "name": "ipython",
        "version": 3
      },
      "file_extension": ".py",
      "mimetype": "text/x-python",
      "name": "python",
      "nbconvert_exporter": "python",
      "pygments_lexer": "ipython3",
      "version": "3.11.5"
    }
  },
  "nbformat": 4,
  "nbformat_minor": 5
}